{
 "cells": [
  {
   "cell_type": "code",
   "execution_count": 9,
   "id": "7d3324a0",
   "metadata": {},
   "outputs": [],
   "source": [
    "#sample analysis\n",
    "import pandas as pd\n",
    "import numpy as np\n",
    "import matplotlib.pyplot as plt\n",
    "import seaborn as sns"
   ]
  },
  {
   "cell_type": "code",
   "execution_count": 5,
   "id": "a44a6cef",
   "metadata": {},
   "outputs": [],
   "source": [
    "file='response.csv'\n",
    "df=pd.read_csv(file)"
   ]
  },
  {
   "cell_type": "code",
   "execution_count": 6,
   "id": "8f89386a",
   "metadata": {},
   "outputs": [
    {
     "data": {
      "text/plain": [
       "(88, 20)"
      ]
     },
     "execution_count": 6,
     "metadata": {},
     "output_type": "execute_result"
    }
   ],
   "source": [
    "df.shape"
   ]
  },
  {
   "cell_type": "code",
   "execution_count": 7,
   "id": "a4cdecc9",
   "metadata": {},
   "outputs": [
    {
     "data": {
      "text/plain": [
       "Index(['Timestamp', 'Name', 'Email', 'effective_or_not', 'convenient_or_not',\n",
       "       'accessible_for_everyone', 'interaction_between_teachers_students',\n",
       "       'score_good_marks', 'distracted', 'increased_your_interest',\n",
       "       'putting_efforts', 'connect_internet', 'engaged _throughou',\n",
       "       'level_of_teaching', 'confortzone', 'online_or_offline', 'health_issue',\n",
       "       'prefered_platform', 'onlineclasses_feel_new', 'suggestion'],\n",
       "      dtype='object')"
      ]
     },
     "execution_count": 7,
     "metadata": {},
     "output_type": "execute_result"
    }
   ],
   "source": [
    "df.columns"
   ]
  },
  {
   "cell_type": "code",
   "execution_count": 10,
   "id": "02ef419c",
   "metadata": {},
   "outputs": [
    {
     "data": {
      "text/html": [
       "<div>\n",
       "<style scoped>\n",
       "    .dataframe tbody tr th:only-of-type {\n",
       "        vertical-align: middle;\n",
       "    }\n",
       "\n",
       "    .dataframe tbody tr th {\n",
       "        vertical-align: top;\n",
       "    }\n",
       "\n",
       "    .dataframe thead th {\n",
       "        text-align: right;\n",
       "    }\n",
       "</style>\n",
       "<table border=\"1\" class=\"dataframe\">\n",
       "  <thead>\n",
       "    <tr style=\"text-align: right;\">\n",
       "      <th></th>\n",
       "      <th>Timestamp</th>\n",
       "      <th>Name</th>\n",
       "      <th>Email</th>\n",
       "      <th>effective_or_not</th>\n",
       "      <th>convenient_or_not</th>\n",
       "      <th>accessible_for_everyone</th>\n",
       "      <th>interaction_between_teachers_students</th>\n",
       "      <th>score_good_marks</th>\n",
       "      <th>distracted</th>\n",
       "      <th>increased_your_interest</th>\n",
       "      <th>putting_efforts</th>\n",
       "      <th>connect_internet</th>\n",
       "      <th>engaged _throughou</th>\n",
       "      <th>level_of_teaching</th>\n",
       "      <th>confortzone</th>\n",
       "      <th>online_or_offline</th>\n",
       "      <th>health_issue</th>\n",
       "      <th>prefered_platform</th>\n",
       "      <th>onlineclasses_feel_new</th>\n",
       "      <th>suggestion</th>\n",
       "    </tr>\n",
       "  </thead>\n",
       "  <tbody>\n",
       "    <tr>\n",
       "      <th>0</th>\n",
       "      <td>10-7-2021 20.25.50</td>\n",
       "      <td>Santhosh C</td>\n",
       "      <td>19cs141@kpriet.ac.in</td>\n",
       "      <td>Agree</td>\n",
       "      <td>Disagree</td>\n",
       "      <td>Yes</td>\n",
       "      <td>Reduced</td>\n",
       "      <td>No</td>\n",
       "      <td>Yes</td>\n",
       "      <td>No</td>\n",
       "      <td>0-30%</td>\n",
       "      <td>Difficult</td>\n",
       "      <td>No</td>\n",
       "      <td>staffs teaching was good in offline classes co...</td>\n",
       "      <td>classroom</td>\n",
       "      <td>Direct classes</td>\n",
       "      <td>Yes</td>\n",
       "      <td>Google meet</td>\n",
       "      <td>Agree</td>\n",
       "      <td>Nothing is improved</td>\n",
       "    </tr>\n",
       "    <tr>\n",
       "      <th>1</th>\n",
       "      <td>10-7-2021 20.28.08</td>\n",
       "      <td>Santo</td>\n",
       "      <td>santhoshjeje@gmail.com</td>\n",
       "      <td>Agree</td>\n",
       "      <td>Agree</td>\n",
       "      <td>Yes</td>\n",
       "      <td>Increased</td>\n",
       "      <td>Yes</td>\n",
       "      <td>Yes</td>\n",
       "      <td>Yes</td>\n",
       "      <td>0-30%</td>\n",
       "      <td>Difficult</td>\n",
       "      <td>No</td>\n",
       "      <td>staffs teaching was good in offline classes co...</td>\n",
       "      <td>classroom</td>\n",
       "      <td>Direct classes</td>\n",
       "      <td>Yes</td>\n",
       "      <td>Google meet</td>\n",
       "      <td>Agree</td>\n",
       "      <td>noting</td>\n",
       "    </tr>\n",
       "    <tr>\n",
       "      <th>2</th>\n",
       "      <td>10-7-2021 20.33.58</td>\n",
       "      <td>Bala S</td>\n",
       "      <td>balu@gmail.com</td>\n",
       "      <td>Disagree</td>\n",
       "      <td>Agree</td>\n",
       "      <td>Yes</td>\n",
       "      <td>Reduced</td>\n",
       "      <td>No</td>\n",
       "      <td>Yes</td>\n",
       "      <td>No</td>\n",
       "      <td>0-30%</td>\n",
       "      <td>Difficult</td>\n",
       "      <td>No</td>\n",
       "      <td>staffs teaching was good in offline classes co...</td>\n",
       "      <td>classroom</td>\n",
       "      <td>Direct classes</td>\n",
       "      <td>Yes</td>\n",
       "      <td>Google meet</td>\n",
       "      <td>Agree</td>\n",
       "      <td>Nothing</td>\n",
       "    </tr>\n",
       "    <tr>\n",
       "      <th>3</th>\n",
       "      <td>10-7-2021 21.42.08</td>\n",
       "      <td>Gokul S</td>\n",
       "      <td>gokulsgokulsgokuls@gmail.com</td>\n",
       "      <td>Disagree</td>\n",
       "      <td>Agree</td>\n",
       "      <td>No</td>\n",
       "      <td>Reduced</td>\n",
       "      <td>No</td>\n",
       "      <td>Yes</td>\n",
       "      <td>No</td>\n",
       "      <td>30-50%</td>\n",
       "      <td>Easy</td>\n",
       "      <td>No</td>\n",
       "      <td>staffs teaching was good in offline classes co...</td>\n",
       "      <td>NaN</td>\n",
       "      <td>Direct classes</td>\n",
       "      <td>Yes</td>\n",
       "      <td>Zoom</td>\n",
       "      <td>Agree</td>\n",
       "      <td>1) Staffs should try to make the classes more ...</td>\n",
       "    </tr>\n",
       "    <tr>\n",
       "      <th>4</th>\n",
       "      <td>10-7-2021 21.54.51</td>\n",
       "      <td>Mohanraj</td>\n",
       "      <td>mohanrajmarc93@gmail.com</td>\n",
       "      <td>Disagree</td>\n",
       "      <td>Disagree</td>\n",
       "      <td>No</td>\n",
       "      <td>Reduced</td>\n",
       "      <td>No</td>\n",
       "      <td>Yes</td>\n",
       "      <td>No</td>\n",
       "      <td>70-90%</td>\n",
       "      <td>Easy</td>\n",
       "      <td>No</td>\n",
       "      <td>staffs teaching was good in both online and of...</td>\n",
       "      <td>NaN</td>\n",
       "      <td>Direct classes</td>\n",
       "      <td>Yes</td>\n",
       "      <td>Cisco webex</td>\n",
       "      <td>Agree</td>\n",
       "      <td>The amount of assignments</td>\n",
       "    </tr>\n",
       "  </tbody>\n",
       "</table>\n",
       "</div>"
      ],
      "text/plain": [
       "            Timestamp        Name                         Email  \\\n",
       "0  10-7-2021 20.25.50  Santhosh C          19cs141@kpriet.ac.in   \n",
       "1  10-7-2021 20.28.08       Santo        santhoshjeje@gmail.com   \n",
       "2  10-7-2021 20.33.58      Bala S                balu@gmail.com   \n",
       "3  10-7-2021 21.42.08     Gokul S  gokulsgokulsgokuls@gmail.com   \n",
       "4  10-7-2021 21.54.51   Mohanraj       mohanrajmarc93@gmail.com   \n",
       "\n",
       "  effective_or_not convenient_or_not accessible_for_everyone  \\\n",
       "0            Agree          Disagree                     Yes   \n",
       "1            Agree             Agree                     Yes   \n",
       "2         Disagree             Agree                     Yes   \n",
       "3         Disagree             Agree                      No   \n",
       "4         Disagree          Disagree                      No   \n",
       "\n",
       "  interaction_between_teachers_students score_good_marks distracted  \\\n",
       "0                               Reduced               No        Yes   \n",
       "1                             Increased              Yes        Yes   \n",
       "2                               Reduced               No        Yes   \n",
       "3                               Reduced               No        Yes   \n",
       "4                               Reduced               No        Yes   \n",
       "\n",
       "  increased_your_interest putting_efforts connect_internet engaged _throughou  \\\n",
       "0                      No           0-30%        Difficult                 No   \n",
       "1                     Yes           0-30%        Difficult                 No   \n",
       "2                      No           0-30%        Difficult                 No   \n",
       "3                      No          30-50%             Easy                 No   \n",
       "4                      No          70-90%             Easy                 No   \n",
       "\n",
       "                                   level_of_teaching confortzone  \\\n",
       "0  staffs teaching was good in offline classes co...   classroom   \n",
       "1  staffs teaching was good in offline classes co...   classroom   \n",
       "2  staffs teaching was good in offline classes co...   classroom   \n",
       "3  staffs teaching was good in offline classes co...         NaN   \n",
       "4  staffs teaching was good in both online and of...         NaN   \n",
       "\n",
       "  online_or_offline health_issue prefered_platform onlineclasses_feel_new  \\\n",
       "0    Direct classes          Yes       Google meet                  Agree   \n",
       "1    Direct classes          Yes       Google meet                  Agree   \n",
       "2    Direct classes          Yes       Google meet                  Agree   \n",
       "3    Direct classes          Yes              Zoom                  Agree   \n",
       "4    Direct classes          Yes       Cisco webex                  Agree   \n",
       "\n",
       "                                          suggestion  \n",
       "0                                Nothing is improved  \n",
       "1                                             noting  \n",
       "2                                            Nothing  \n",
       "3  1) Staffs should try to make the classes more ...  \n",
       "4                         The amount of assignments   "
      ]
     },
     "execution_count": 10,
     "metadata": {},
     "output_type": "execute_result"
    }
   ],
   "source": [
    "df.head()"
   ]
  },
  {
   "cell_type": "code",
   "execution_count": null,
   "id": "52b64698",
   "metadata": {},
   "outputs": [],
   "source": []
  },
  {
   "cell_type": "markdown",
   "id": "3c9e6c71",
   "metadata": {},
   "source": [
    "# Does online classes are more effective than offline classes?"
   ]
  },
  {
   "cell_type": "code",
   "execution_count": 12,
   "id": "a93742bc",
   "metadata": {},
   "outputs": [
    {
     "data": {
      "text/plain": [
       "Disagree    74\n",
       "Agree       14\n",
       "Name: effective_or_not, dtype: int64"
      ]
     },
     "execution_count": 12,
     "metadata": {},
     "output_type": "execute_result"
    }
   ],
   "source": [
    "#in count\n",
    "df['effective_or_not'].value_counts()"
   ]
  },
  {
   "cell_type": "code",
   "execution_count": 20,
   "id": "8edcfca3",
   "metadata": {},
   "outputs": [
    {
     "data": {
      "text/plain": [
       "Disagree    84.090909\n",
       "Agree       15.909091\n",
       "Name: effective_or_not, dtype: float64"
      ]
     },
     "execution_count": 20,
     "metadata": {},
     "output_type": "execute_result"
    }
   ],
   "source": [
    "#in percentage\n",
    "df['effective_or_not'].value_counts()/len(df['effective_or_not'])*100"
   ]
  },
  {
   "cell_type": "code",
   "execution_count": 30,
   "id": "c5cdceb6",
   "metadata": {},
   "outputs": [
    {
     "data": {
      "image/png": "[encoded data removed]",
      "text/plain": [
       "<Figure size 288x360 with 1 Axes>"
      ]
     },
     "metadata": {
      "needs_background": "light"
     },
     "output_type": "display_data"
    }
   ],
   "source": [
    "#in diagram\n",
    "efe=df['effective_or_not'].value_counts().reset_index()\n",
    "\n",
    "plt.figure(figsize=(4,5))\n",
    "plt.bar(efe['index'],efe['effective_or_not'],width=0.2)\n",
    "plt.title(\"People's opinion about online classes are effective or not\")\n",
    "plt.xlabel(\"Opinion\")\n",
    "plt.ylabel(\"Count\")\n",
    "plt.show()\n"
   ]
  },
  {
   "cell_type": "markdown",
   "id": "b29f03df",
   "metadata": {},
   "source": [
    "#### So 85% of people disagree with online classes"
   ]
  },
  {
   "cell_type": "code",
   "execution_count": null,
   "id": "4e6f9c78",
   "metadata": {},
   "outputs": [],
   "source": []
  },
  {
   "cell_type": "markdown",
   "id": "4cfdb843",
   "metadata": {},
   "source": [
    "# Does online classes are more convenient than offline classes?"
   ]
  },
  {
   "cell_type": "code",
   "execution_count": 32,
   "id": "da1c4695",
   "metadata": {},
   "outputs": [
    {
     "data": {
      "text/plain": [
       "Agree       46\n",
       "Disagree    42\n",
       "Name: convenient_or_not, dtype: int64"
      ]
     },
     "execution_count": 32,
     "metadata": {},
     "output_type": "execute_result"
    }
   ],
   "source": [
    "#in count\n",
    "df['convenient_or_not'].value_counts()"
   ]
  },
  {
   "cell_type": "code",
   "execution_count": 35,
   "id": "afe25819",
   "metadata": {},
   "outputs": [
    {
     "data": {
      "text/plain": [
       "Agree       52.272727\n",
       "Disagree    47.727273\n",
       "Name: convenient_or_not, dtype: float64"
      ]
     },
     "execution_count": 35,
     "metadata": {},
     "output_type": "execute_result"
    }
   ],
   "source": [
    "#in percentage\n",
    "df['convenient_or_not'].value_counts()/len(df['convenient_or_not'])*100"
   ]
  },
  {
   "cell_type": "markdown",
   "id": "cde04806",
   "metadata": {},
   "source": [
    "### Does online classes are more convenient than offline classes?\n",
    "#### 52% people agree with this"
   ]
  },
  {
   "cell_type": "code",
   "execution_count": 34,
   "id": "87f7098d",
   "metadata": {},
   "outputs": [
    {
     "data": {
      "text/html": [
       "<div>\n",
       "<style scoped>\n",
       "    .dataframe tbody tr th:only-of-type {\n",
       "        vertical-align: middle;\n",
       "    }\n",
       "\n",
       "    .dataframe tbody tr th {\n",
       "        vertical-align: top;\n",
       "    }\n",
       "\n",
       "    .dataframe thead th {\n",
       "        text-align: right;\n",
       "    }\n",
       "</style>\n",
       "<table border=\"1\" class=\"dataframe\">\n",
       "  <thead>\n",
       "    <tr style=\"text-align: right;\">\n",
       "      <th>convenient_or_not</th>\n",
       "      <th>Agree</th>\n",
       "      <th>Disagree</th>\n",
       "    </tr>\n",
       "    <tr>\n",
       "      <th>effective_or_not</th>\n",
       "      <th></th>\n",
       "      <th></th>\n",
       "    </tr>\n",
       "  </thead>\n",
       "  <tbody>\n",
       "    <tr>\n",
       "      <th>Agree</th>\n",
       "      <td>12</td>\n",
       "      <td>2</td>\n",
       "    </tr>\n",
       "    <tr>\n",
       "      <th>Disagree</th>\n",
       "      <td>34</td>\n",
       "      <td>40</td>\n",
       "    </tr>\n",
       "  </tbody>\n",
       "</table>\n",
       "</div>"
      ],
      "text/plain": [
       "convenient_or_not  Agree  Disagree\n",
       "effective_or_not                  \n",
       "Agree                 12         2\n",
       "Disagree              34        40"
      ]
     },
     "execution_count": 34,
     "metadata": {},
     "output_type": "execute_result"
    }
   ],
   "source": [
    "#Lets see in crosstab\n",
    "pd.crosstab(df['effective_or_not'],df['convenient_or_not'])"
   ]
  },
  {
   "cell_type": "markdown",
   "id": "76ba9b38",
   "metadata": {},
   "source": [
    "#### Based on above information only 12% of people said online classes is convinient and effective."
   ]
  },
  {
   "cell_type": "code",
   "execution_count": null,
   "id": "b9d7613f",
   "metadata": {},
   "outputs": [],
   "source": []
  },
  {
   "cell_type": "markdown",
   "id": "cd05aa56",
   "metadata": {},
   "source": [
    "## Do you think  at present online classes are accessible to everyone in the country?"
   ]
  },
  {
   "cell_type": "code",
   "execution_count": 37,
   "id": "08e6e080",
   "metadata": {},
   "outputs": [
    {
     "data": {
      "text/plain": [
       "No     71.590909\n",
       "Yes    28.409091\n",
       "Name: accessible_for_everyone, dtype: float64"
      ]
     },
     "execution_count": 37,
     "metadata": {},
     "output_type": "execute_result"
    }
   ],
   "source": [
    "df['accessible_for_everyone'].value_counts()/len(df['accessible_for_everyone'])*100"
   ]
  },
  {
   "cell_type": "code",
   "execution_count": null,
   "id": "eee42ffc",
   "metadata": {},
   "outputs": [],
   "source": []
  },
  {
   "cell_type": "markdown",
   "id": "c3251428",
   "metadata": {},
   "source": [
    "## How much effort are you putting into your online classes right now?"
   ]
  },
  {
   "cell_type": "code",
   "execution_count": 38,
   "id": "8d0c46c1",
   "metadata": {},
   "outputs": [
    {
     "data": {
      "text/plain": [
       "50-70%     38\n",
       "70-90%     16\n",
       "30-50%     15\n",
       "0-30%      13\n",
       "90-100%     6\n",
       "Name: putting_efforts, dtype: int64"
      ]
     },
     "execution_count": 38,
     "metadata": {},
     "output_type": "execute_result"
    }
   ],
   "source": [
    "df['putting_efforts'].value_counts()"
   ]
  },
  {
   "cell_type": "code",
   "execution_count": 45,
   "id": "47ac878c",
   "metadata": {},
   "outputs": [],
   "source": [
    "effort=df['putting_efforts'].value_counts()/len(df['putting_efforts'])*100\n",
    "effort=effort.reset_index()"
   ]
  },
  {
   "cell_type": "code",
   "execution_count": 46,
   "id": "bd97da1c",
   "metadata": {},
   "outputs": [
    {
     "data": {
      "image/png": "[encoded data removed]",
      "text/plain": [
       "<Figure size 432x288 with 1 Axes>"
      ]
     },
     "metadata": {
      "needs_background": "light"
     },
     "output_type": "display_data"
    }
   ],
   "source": [
    "plt.bar(effort['index'],effort['putting_efforts'])\n",
    "plt.show()"
   ]
  },
  {
   "cell_type": "code",
   "execution_count": null,
   "id": "3e3cb331",
   "metadata": {},
   "outputs": [],
   "source": []
  }
 ],
 "metadata": {
  "kernelspec": {
   "display_name": "Python 3",
   "language": "python",
   "name": "python3"
  },
  "language_info": {
   "codemirror_mode": {
    "name": "ipython",
    "version": 3
   },
   "file_extension": ".py",
   "mimetype": "text/x-python",
   "name": "python",
   "nbconvert_exporter": "python",
   "pygments_lexer": "ipython3",
   "version": "3.9.5"
  }
 },
 "nbformat": 4,
 "nbformat_minor": 5
}
